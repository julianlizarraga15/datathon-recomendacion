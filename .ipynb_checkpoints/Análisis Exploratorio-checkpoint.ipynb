{
 "cells": [
  {
   "cell_type": "code",
   "execution_count": 485,
   "id": "ec779e01",
   "metadata": {},
   "outputs": [],
   "source": [
    "import pandas as pd\n",
    "import numpy as np\n",
    "import matplotlib.pyplot as plt\n",
    "import seaborn as sns\n",
    "from datetime import datetime\n",
    "import copy\n",
    "from matplotlib.ticker import PercentFormatter\n",
    "from IPython.display import clear_output\n",
    "from sklearn.metrics.pairwise import linear_kernel, cosine_distances\n",
    "from sklearn.preprocessing import MinMaxScaler\n",
    "from math import exp\n",
    "\n",
    "pd.set_option('display.max_columns', 10)\n",
    "%config Completer.use_jedi = False\n",
    "pd.options.display.float_format = '{:20,.2f}'.format"
   ]
  },
  {
   "cell_type": "code",
   "execution_count": 14,
   "id": "dffe2704-4ae7-4648-91aa-b30a34a9a97c",
   "metadata": {},
   "outputs": [],
   "source": [
    "# Esta función pasa de string a datetime las columnas que se desea.\n",
    "\n",
    "def cast_object_to_datetime(df, columns, the_format):\n",
    "    \n",
    "    for column in columns:\n",
    "        \n",
    "        df[column] = df[column].apply(lambda x: x if x is None else datetime.strptime(x[:-2], the_format))\n",
    "        \n",
    "    return df"
   ]
  },
  {
   "cell_type": "code",
   "execution_count": 304,
   "id": "e93ffe5c",
   "metadata": {},
   "outputs": [
    {
     "name": "stdout",
     "output_type": "stream",
     "text": [
      "(3657801, 7)\n",
      "(4366, 459)\n"
     ]
    }
   ],
   "source": [
    "location_juli_1 = r'C:\\Users\\jlizarraga\\Documents\\datathon-datasets\\train.csv'\n",
    "location_juli_2 = r'C:\\Users\\jlizarraga\\Documents\\datathon-datasets\\metadata.csv'\n",
    "\n",
    "location_fer_1 = r'C:\\Users\\fmrodriguez\\Competencia\\datathon-recomendacion\\train.csv'\n",
    "location_fer_2 = r'C:\\Users\\fmrodriguez\\Competencia\\datathon-recomendacion\\metadata.csv'\n",
    "\n",
    "\n",
    "# Cada uno tiene que cambiar la dirección de los datasets cuando corra la notebook.\n",
    "df = pd.read_csv(location_juli_1)\n",
    "metadata = pd.read_csv(location_juli_2, sep=';')\n",
    "metadata_de_chequeo = pd.read_csv(location_juli_2, sep=';')\n",
    "\n",
    "print(df.shape)\n",
    "print(metadata.shape)"
   ]
  },
  {
   "cell_type": "code",
   "execution_count": 3,
   "id": "221e0f78",
   "metadata": {},
   "outputs": [
    {
     "data": {
      "text/html": [
       "<div>\n",
       "<style scoped>\n",
       "    .dataframe tbody tr th:only-of-type {\n",
       "        vertical-align: middle;\n",
       "    }\n",
       "\n",
       "    .dataframe tbody tr th {\n",
       "        vertical-align: top;\n",
       "    }\n",
       "\n",
       "    .dataframe thead th {\n",
       "        text-align: right;\n",
       "    }\n",
       "</style>\n",
       "<table border=\"1\" class=\"dataframe\">\n",
       "  <thead>\n",
       "    <tr style=\"text-align: right;\">\n",
       "      <th></th>\n",
       "      <th>customer_id</th>\n",
       "      <th>account_id</th>\n",
       "      <th>device_type</th>\n",
       "      <th>asset_id</th>\n",
       "      <th>tunein</th>\n",
       "      <th>tuneout</th>\n",
       "      <th>resume</th>\n",
       "    </tr>\n",
       "  </thead>\n",
       "  <tbody>\n",
       "    <tr>\n",
       "      <th>0</th>\n",
       "      <td>0</td>\n",
       "      <td>90627</td>\n",
       "      <td>STATIONARY</td>\n",
       "      <td>18332.0</td>\n",
       "      <td>2021-02-18 22:52:00.0</td>\n",
       "      <td>2021-02-18 23:35:00.0</td>\n",
       "      <td>0</td>\n",
       "    </tr>\n",
       "    <tr>\n",
       "      <th>1</th>\n",
       "      <td>0</td>\n",
       "      <td>90627</td>\n",
       "      <td>STATIONARY</td>\n",
       "      <td>24727.0</td>\n",
       "      <td>2021-03-24 23:17:00.0</td>\n",
       "      <td>2021-03-25 00:01:00.0</td>\n",
       "      <td>0</td>\n",
       "    </tr>\n",
       "    <tr>\n",
       "      <th>2</th>\n",
       "      <td>1</td>\n",
       "      <td>3387</td>\n",
       "      <td>STB</td>\n",
       "      <td>895.0</td>\n",
       "      <td>2021-03-15 10:05:00.0</td>\n",
       "      <td>2021-03-15 10:23:00.0</td>\n",
       "      <td>0</td>\n",
       "    </tr>\n",
       "    <tr>\n",
       "      <th>3</th>\n",
       "      <td>1</td>\n",
       "      <td>3387</td>\n",
       "      <td>STB</td>\n",
       "      <td>895.0</td>\n",
       "      <td>2021-03-15 10:23:00.0</td>\n",
       "      <td>2021-03-15 11:18:00.0</td>\n",
       "      <td>1</td>\n",
       "    </tr>\n",
       "    <tr>\n",
       "      <th>4</th>\n",
       "      <td>1</td>\n",
       "      <td>3387</td>\n",
       "      <td>STB</td>\n",
       "      <td>26062.0</td>\n",
       "      <td>2021-03-16 09:24:00.0</td>\n",
       "      <td>2021-03-16 09:44:00.0</td>\n",
       "      <td>0</td>\n",
       "    </tr>\n",
       "  </tbody>\n",
       "</table>\n",
       "</div>"
      ],
      "text/plain": [
       "   customer_id  account_id device_type  asset_id                 tunein  \\\n",
       "0            0       90627  STATIONARY   18332.0  2021-02-18 22:52:00.0   \n",
       "1            0       90627  STATIONARY   24727.0  2021-03-24 23:17:00.0   \n",
       "2            1        3387         STB     895.0  2021-03-15 10:05:00.0   \n",
       "3            1        3387         STB     895.0  2021-03-15 10:23:00.0   \n",
       "4            1        3387         STB   26062.0  2021-03-16 09:24:00.0   \n",
       "\n",
       "                 tuneout  resume  \n",
       "0  2021-02-18 23:35:00.0       0  \n",
       "1  2021-03-25 00:01:00.0       0  \n",
       "2  2021-03-15 10:23:00.0       0  \n",
       "3  2021-03-15 11:18:00.0       1  \n",
       "4  2021-03-16 09:44:00.0       0  "
      ]
     },
     "execution_count": 3,
     "metadata": {},
     "output_type": "execute_result"
    }
   ],
   "source": [
    "# Observamos los primeros registros del dataset que contiene lo que vio cada account_id.\n",
    "df.head()"
   ]
  },
  {
   "cell_type": "code",
   "execution_count": 6,
   "id": "58be74b0",
   "metadata": {},
   "outputs": [
    {
     "data": {
      "text/html": [
       "<div>\n",
       "<style scoped>\n",
       "    .dataframe tbody tr th:only-of-type {\n",
       "        vertical-align: middle;\n",
       "    }\n",
       "\n",
       "    .dataframe tbody tr th {\n",
       "        vertical-align: top;\n",
       "    }\n",
       "\n",
       "    .dataframe thead th {\n",
       "        text-align: right;\n",
       "    }\n",
       "</style>\n",
       "<table border=\"1\" class=\"dataframe\">\n",
       "  <thead>\n",
       "    <tr style=\"text-align: right;\">\n",
       "      <th></th>\n",
       "      <th>asset_id</th>\n",
       "      <th>content_id</th>\n",
       "      <th>title</th>\n",
       "      <th>reduced_title</th>\n",
       "      <th>episode_title</th>\n",
       "      <th>show_type</th>\n",
       "      <th>released_year</th>\n",
       "      <th>country_of_origin</th>\n",
       "      <th>category</th>\n",
       "      <th>keywords</th>\n",
       "      <th>description</th>\n",
       "      <th>reduced_desc</th>\n",
       "      <th>cast_first_name</th>\n",
       "      <th>credits_first_name</th>\n",
       "      <th>run_time_min</th>\n",
       "      <th>audience</th>\n",
       "      <th>made_for_tv</th>\n",
       "      <th>close_caption</th>\n",
       "      <th>sex_rating</th>\n",
       "      <th>violence_rating</th>\n",
       "      <th>language_rating</th>\n",
       "      <th>dialog_rating</th>\n",
       "      <th>fv_rating</th>\n",
       "      <th>pay_per_view</th>\n",
       "      <th>pack_premium_1</th>\n",
       "      <th>pack_premium_2</th>\n",
       "      <th>create_date</th>\n",
       "      <th>modify_date</th>\n",
       "      <th>start_vod_date</th>\n",
       "      <th>end_vod_date</th>\n",
       "    </tr>\n",
       "  </thead>\n",
       "  <tbody>\n",
       "    <tr>\n",
       "      <th>0</th>\n",
       "      <td>15188</td>\n",
       "      <td>0.0</td>\n",
       "      <td>Ep:17 Tiempos Compulsivos</td>\n",
       "      <td>Tiempos_Compul_E17</td>\n",
       "      <td>Episodio 17</td>\n",
       "      <td>Serie</td>\n",
       "      <td>2012.0</td>\n",
       "      <td>AR</td>\n",
       "      <td>Drama</td>\n",
       "      <td>Trastornos,Médicos,Tragicómica,Telenovela,Enfe...</td>\n",
       "      <td>Esteban recibe una noticia inesperada: va a se...</td>\n",
       "      <td>Esteban recibe una noticia inesperada: va a se...</td>\n",
       "      <td>Rodrigo De la Serna, Paola Krum, Fernán Mirás,...</td>\n",
       "      <td>Daniel Barone</td>\n",
       "      <td>48.0</td>\n",
       "      <td>General</td>\n",
       "      <td>N</td>\n",
       "      <td>N</td>\n",
       "      <td>N</td>\n",
       "      <td>N</td>\n",
       "      <td>N</td>\n",
       "      <td>N</td>\n",
       "      <td>N</td>\n",
       "      <td>N</td>\n",
       "      <td>N</td>\n",
       "      <td>N</td>\n",
       "      <td>2017-12-01T10:18:15.0Z</td>\n",
       "      <td>2019-01-26T06:37:18.0Z</td>\n",
       "      <td>2017-12-01T00:00:00.0Z</td>\n",
       "      <td>2020-12-01T23:59:59.0Z</td>\n",
       "    </tr>\n",
       "    <tr>\n",
       "      <th>1</th>\n",
       "      <td>24940</td>\n",
       "      <td>1.0</td>\n",
       "      <td>7 Cajas</td>\n",
       "      <td>7_Cajas</td>\n",
       "      <td>NaN</td>\n",
       "      <td>Película</td>\n",
       "      <td>2012.0</td>\n",
       "      <td>PY</td>\n",
       "      <td>Suspenso/Acción</td>\n",
       "      <td>Latinoamérica,Pobreza,Crimen,Pandillas</td>\n",
       "      <td>Víctor trabaja como carretillero. Un día recib...</td>\n",
       "      <td>Trabajando como carretillero, Víctor recibe un...</td>\n",
       "      <td>Celso Franco, Víctor Sosa, Lali Gonzalez</td>\n",
       "      <td>Juan Carlos Maneglia</td>\n",
       "      <td>105.0</td>\n",
       "      <td>General</td>\n",
       "      <td>N</td>\n",
       "      <td>N</td>\n",
       "      <td>N</td>\n",
       "      <td>N</td>\n",
       "      <td>N</td>\n",
       "      <td>N</td>\n",
       "      <td>N</td>\n",
       "      <td>Y</td>\n",
       "      <td>N</td>\n",
       "      <td>N</td>\n",
       "      <td>2017-12-19T20:58:15.0Z</td>\n",
       "      <td>2019-09-17T19:02:03.0Z</td>\n",
       "      <td>2017-12-15T00:00:00.0Z</td>\n",
       "      <td>2022-12-14T23:59:59.0Z</td>\n",
       "    </tr>\n",
       "  </tbody>\n",
       "</table>\n",
       "</div>"
      ],
      "text/plain": [
       "   asset_id  content_id                      title       reduced_title  \\\n",
       "0     15188         0.0  Ep:17 Tiempos Compulsivos  Tiempos_Compul_E17   \n",
       "1     24940         1.0                    7 Cajas             7_Cajas   \n",
       "\n",
       "  episode_title show_type  released_year country_of_origin         category  \\\n",
       "0   Episodio 17     Serie         2012.0                AR            Drama   \n",
       "1           NaN  Película         2012.0                PY  Suspenso/Acción   \n",
       "\n",
       "                                            keywords  \\\n",
       "0  Trastornos,Médicos,Tragicómica,Telenovela,Enfe...   \n",
       "1             Latinoamérica,Pobreza,Crimen,Pandillas   \n",
       "\n",
       "                                         description  \\\n",
       "0  Esteban recibe una noticia inesperada: va a se...   \n",
       "1  Víctor trabaja como carretillero. Un día recib...   \n",
       "\n",
       "                                        reduced_desc  \\\n",
       "0  Esteban recibe una noticia inesperada: va a se...   \n",
       "1  Trabajando como carretillero, Víctor recibe un...   \n",
       "\n",
       "                                     cast_first_name    credits_first_name  \\\n",
       "0  Rodrigo De la Serna, Paola Krum, Fernán Mirás,...         Daniel Barone   \n",
       "1           Celso Franco, Víctor Sosa, Lali Gonzalez  Juan Carlos Maneglia   \n",
       "\n",
       "   run_time_min audience made_for_tv close_caption sex_rating violence_rating  \\\n",
       "0          48.0  General           N             N          N               N   \n",
       "1         105.0  General           N             N          N               N   \n",
       "\n",
       "  language_rating dialog_rating fv_rating pay_per_view pack_premium_1  \\\n",
       "0               N             N         N            N              N   \n",
       "1               N             N         N            Y              N   \n",
       "\n",
       "  pack_premium_2             create_date             modify_date  \\\n",
       "0              N  2017-12-01T10:18:15.0Z  2019-01-26T06:37:18.0Z   \n",
       "1              N  2017-12-19T20:58:15.0Z  2019-09-17T19:02:03.0Z   \n",
       "\n",
       "           start_vod_date            end_vod_date  \n",
       "0  2017-12-01T00:00:00.0Z  2020-12-01T23:59:59.0Z  \n",
       "1  2017-12-15T00:00:00.0Z  2022-12-14T23:59:59.0Z  "
      ]
     },
     "execution_count": 6,
     "metadata": {},
     "output_type": "execute_result"
    }
   ],
   "source": [
    "# Observamos los primeros registros del dataset que contiene información sobre los shows que ofrece la empresa.\n",
    "metadata.head(2)"
   ]
  },
  {
   "cell_type": "code",
   "execution_count": 13,
   "id": "8e330a09-3473-493c-b1ca-6c6aa9a1a29b",
   "metadata": {},
   "outputs": [
    {
     "name": "stdout",
     "output_type": "stream",
     "text": [
      "Cantidad de usuarios distintos: 113881\n"
     ]
    }
   ],
   "source": [
    "print('Cantidad de usuarios distintos:', len(df.account_id.unique()))"
   ]
  },
  {
   "cell_type": "code",
   "execution_count": 8,
   "id": "c17db216-f1cd-4f5d-b919-4c7febaca9b1",
   "metadata": {},
   "outputs": [
    {
     "name": "stdout",
     "output_type": "stream",
     "text": [
      "Cantidad de contenidos distintos: 4367\n",
      "(Recordar que los episodios de una serie, por ejemplo, tienen distintos asset_id, pero el mismo content_id.)\n"
     ]
    }
   ],
   "source": [
    "print('Cantidad de contenidos distintos:', len(metadata.content_id.unique()))\n",
    "print('(Recordar que los episodios de una serie, por ejemplo, tienen distintos asset_id, pero el mismo content_id.)')"
   ]
  },
  {
   "cell_type": "code",
   "execution_count": 9,
   "id": "e6ab9c41-673a-4713-a1c3-7099d607870d",
   "metadata": {},
   "outputs": [
    {
     "name": "stdout",
     "output_type": "stream",
     "text": [
      "Cantidad de directores distintos: 3260\n",
      "Cantidad de audiencias distintas a las que puede estar dirigido un show: 11\n"
     ]
    }
   ],
   "source": [
    "print('Cantidad de directores distintos:', len(metadata.credits_first_name.unique()))\n",
    "print('Cantidad de audiencias distintas a las que puede estar dirigido un show:', len(metadata.audience.unique()))"
   ]
  },
  {
   "cell_type": "code",
   "execution_count": 10,
   "id": "21da247b",
   "metadata": {},
   "outputs": [
    {
     "name": "stdout",
     "output_type": "stream",
     "text": [
      "<class 'pandas.core.frame.DataFrame'>\n",
      "RangeIndex: 3657801 entries, 0 to 3657800\n",
      "Data columns (total 7 columns):\n",
      " #   Column       Dtype  \n",
      "---  ------       -----  \n",
      " 0   customer_id  int64  \n",
      " 1   account_id   int64  \n",
      " 2   device_type  object \n",
      " 3   asset_id     float64\n",
      " 4   tunein       object \n",
      " 5   tuneout      object \n",
      " 6   resume       int64  \n",
      "dtypes: float64(1), int64(3), object(3)\n",
      "memory usage: 195.3+ MB\n"
     ]
    }
   ],
   "source": [
    "df.info()"
   ]
  },
  {
   "cell_type": "code",
   "execution_count": 11,
   "id": "f8633e1e",
   "metadata": {},
   "outputs": [
    {
     "name": "stdout",
     "output_type": "stream",
     "text": [
      "<class 'pandas.core.frame.DataFrame'>\n",
      "RangeIndex: 33144 entries, 0 to 33143\n",
      "Data columns (total 30 columns):\n",
      " #   Column              Non-Null Count  Dtype  \n",
      "---  ------              --------------  -----  \n",
      " 0   asset_id            33144 non-null  int64  \n",
      " 1   content_id          33123 non-null  float64\n",
      " 2   title               33144 non-null  object \n",
      " 3   reduced_title       33144 non-null  object \n",
      " 4   episode_title       28997 non-null  object \n",
      " 5   show_type           33140 non-null  object \n",
      " 6   released_year       33144 non-null  float64\n",
      " 7   country_of_origin   33140 non-null  object \n",
      " 8   category            33144 non-null  object \n",
      " 9   keywords            33142 non-null  object \n",
      " 10  description         33142 non-null  object \n",
      " 11  reduced_desc        33144 non-null  object \n",
      " 12  cast_first_name     24412 non-null  object \n",
      " 13  credits_first_name  20590 non-null  object \n",
      " 14  run_time_min        33144 non-null  float64\n",
      " 15  audience            33143 non-null  object \n",
      " 16  made_for_tv         33144 non-null  object \n",
      " 17  close_caption       33144 non-null  object \n",
      " 18  sex_rating          33144 non-null  object \n",
      " 19  violence_rating     33144 non-null  object \n",
      " 20  language_rating     33144 non-null  object \n",
      " 21  dialog_rating       33144 non-null  object \n",
      " 22  fv_rating           33144 non-null  object \n",
      " 23  pay_per_view        33144 non-null  object \n",
      " 24  pack_premium_1      33144 non-null  object \n",
      " 25  pack_premium_2      33144 non-null  object \n",
      " 26  create_date         33144 non-null  object \n",
      " 27  modify_date         33144 non-null  object \n",
      " 28  start_vod_date      33144 non-null  object \n",
      " 29  end_vod_date        33144 non-null  object \n",
      "dtypes: float64(3), int64(1), object(26)\n",
      "memory usage: 7.6+ MB\n"
     ]
    }
   ],
   "source": [
    "metadata.info()"
   ]
  },
  {
   "cell_type": "code",
   "execution_count": 598,
   "id": "9e60038d",
   "metadata": {},
   "outputs": [],
   "source": [
    "# Transformamos a datetime las columnas 'tunein' y 'tuneout'\n",
    "df = cast_object_to_datetime(df, ['tunein', 'tuneout'], '%Y-%m-%d %H:%M:%S')"
   ]
  },
  {
   "cell_type": "code",
   "execution_count": 36,
   "id": "74e26540-c58c-4f54-8bd9-b0e9589d5d2e",
   "metadata": {},
   "outputs": [],
   "source": [
    "def plot_hist(data, title, xlabel, n_of_bins=10, figure_size=(12, 5), xticks=None):\n",
    "\n",
    "    plt.figure(figsize=figure_size)\n",
    "    plt.hist(data, weights=np.ones(len(data)) / len(data), bins=n_of_bins)\n",
    "    plt.gca().yaxis.set_major_formatter(PercentFormatter(1))\n",
    "    plt.title(title)\n",
    "    plt.xlabel(xlabel)\n",
    "    \n",
    "    if xticks is not None:\n",
    "        plt.xticks(xticks)\n",
    "    \n",
    "    plt.show()"
   ]
  },
  {
   "cell_type": "code",
   "execution_count": 43,
   "id": "a092c912-1991-4432-af21-cfa7daa8b2d1",
   "metadata": {},
   "outputs": [
    {
     "name": "stdout",
     "output_type": "stream",
     "text": [
      "Tipos de dispositivos para ver shows y grado de utilización (en %)\n"
     ]
    },
    {
     "data": {
      "text/plain": [
       "STB                           81.84\n",
       "STATIONARY                     6.14\n",
       "PHONE                          5.92\n",
       "CLOUD_CLIENT                   4.77\n",
       "TABLET                         1.33\n",
       "Name: device_type, dtype: float64"
      ]
     },
     "execution_count": 43,
     "metadata": {},
     "output_type": "execute_result"
    }
   ],
   "source": [
    "# Vemos cuáles son los tipos de dispositivo más usados.\n",
    "# No sabemos si sirve para el modelo.\n",
    "\n",
    "print('Tipos de dispositivos para ver shows y grado de utilización (en %)')\n",
    "df.device_type.value_counts(normalize=True)*100"
   ]
  },
  {
   "cell_type": "code",
   "execution_count": 46,
   "id": "a0797ca5-fbae-4b2a-985f-14a0f0317f10",
   "metadata": {},
   "outputs": [
    {
     "name": "stdout",
     "output_type": "stream",
     "text": [
      "Tipos y cantidades (en %) de shows\n"
     ]
    },
    {
     "data": {
      "text/plain": [
       "TV                            47.35\n",
       "Serie                         32.93\n",
       "Película                      12.15\n",
       "Web                            4.18\n",
       "Gaming                         2.55\n",
       "Rolling                        0.83\n",
       "Series,Serie                   0.01\n",
       "Name: show_type, dtype: float64"
      ]
     },
     "execution_count": 46,
     "metadata": {},
     "output_type": "execute_result"
    }
   ],
   "source": [
    "print('Tipos y cantidades (en %) de shows')\n",
    "metadata.show_type.value_counts(normalize=True)*100"
   ]
  },
  {
   "cell_type": "code",
   "execution_count": null,
   "id": "f417d035-b198-494a-bb75-987ae25177a0",
   "metadata": {},
   "outputs": [],
   "source": []
  },
  {
   "cell_type": "code",
   "execution_count": 47,
   "id": "4e9a97cc-bfcf-43bc-9adc-6c88031f04d7",
   "metadata": {},
   "outputs": [
    {
     "data": {
      "image/png": "[encoded data removed]",
      "text/plain": [
       "<Figure size 432x288 with 1 Axes>"
      ]
     },
     "metadata": {
      "needs_background": "light"
     },
     "output_type": "display_data"
    }
   ],
   "source": [
    "sns.countplot(x='show_type', data=metadata, order=metadata.show_type.value_counts().index)\n",
    "plt.xticks(rotation=45)\n",
    "plt.title('Cantidad de shows por tipo')\n",
    "plt.show()"
   ]
  },
  {
   "cell_type": "code",
   "execution_count": 48,
   "id": "093a7c55-4ce6-4bcf-9013-aa8269ba148e",
   "metadata": {},
   "outputs": [
    {
     "data": {
      "image/png": "[encoded data removed]",
      "text/plain": [
       "<Figure size 432x288 with 1 Axes>"
      ]
     },
     "metadata": {
      "needs_background": "light"
     },
     "output_type": "display_data"
    }
   ],
   "source": [
    "metadata['audience'] = metadata['audience'].str.title()\n",
    "\n",
    "sns.countplot(x='audience', data=metadata, order=metadata.audience.value_counts().index)\n",
    "plt.xticks(rotation=45)\n",
    "plt.title('Cantidad de shows por audiencia a la que están dirigidos')\n",
    "plt.show()"
   ]
  },
  {
   "cell_type": "code",
   "execution_count": 51,
   "id": "631cabe2-808c-4731-9f68-50cfa074b4b3",
   "metadata": {},
   "outputs": [
    {
     "name": "stdout",
     "output_type": "stream",
     "text": [
      "Datos sobre la duración de los shows:\n"
     ]
    },
    {
     "data": {
      "text/plain": [
       "count              33,123.00\n",
       "mean                   48.09\n",
       "std                    35.21\n",
       "min                     0.00\n",
       "25%                    22.00\n",
       "50%                    43.00\n",
       "75%                    67.00\n",
       "max                   308.00\n",
       "Name: run_time_min, dtype: float64"
      ]
     },
     "execution_count": 51,
     "metadata": {},
     "output_type": "execute_result"
    }
   ],
   "source": [
    "print('Datos sobre la duración de los shows:')\n",
    "metadata.run_time_min.describe()"
   ]
  },
  {
   "cell_type": "code",
   "execution_count": 52,
   "id": "f0caa1c9-ffa2-4b6d-bee2-879da490d1d8",
   "metadata": {},
   "outputs": [
    {
     "name": "stdout",
     "output_type": "stream",
     "text": [
      "33123\n"
     ]
    },
    {
     "data": {
      "image/png": "[encoded data removed]",
      "text/plain": [
       "<Figure size 864x360 with 1 Axes>"
      ]
     },
     "metadata": {
      "needs_background": "light"
     },
     "output_type": "display_data"
    }
   ],
   "source": [
    "print(len(metadata.run_time_min))\n",
    "plt.figure(figsize=(12, 5))\n",
    "plt.hist(metadata['run_time_min'], bins=100)\n",
    "plt.xticks([5, 10, 25, 35, 45, 60, 80, 100, 200, 300])\n",
    "plt.show()"
   ]
  },
  {
   "cell_type": "code",
   "execution_count": 623,
   "id": "d22e4164-172e-48ae-accb-ccce4c6f7644",
   "metadata": {},
   "outputs": [],
   "source": [
    "# Esta función crea las dummies para alguna columna.\n",
    "\n",
    "# Si se pasa algún delimitador (delimiter), crea las dummies de una columna en la cual haya múltiples valores por fila.\n",
    "# Por ejemplo, la columna 'category' tiene filas que dicen 'Suspenso/Terror'. \n",
    "# En ese caso se crean dos columnas ('Suspenso' y 'Terror') y se le pone un 1 a ese registro.\n",
    "# Los parámetros que recibe son un DataFrame, una columna, un delimitador (en nuestro ejemplo: '/') y un prefijo para las nuevas columnas (opcional).\n",
    "\n",
    "def create_dummies(df, column, delimiter=None, prefix='_'):\n",
    "\n",
    "    \"\"\"\n",
    "    Función que, a partir de una columna categórica, crea columnas dummies.\n",
    "    \n",
    "    Inputs:\n",
    "    -df: DataFrame.\n",
    "    -column: Nombre de la columna a convertir.\n",
    "    -delimiter: Delimitador entre las categorías. Solo se utiliza cuando existe más de una categoría por fila (default=None).\n",
    "    -prefix: Prefijo para identificar columnas dummies (default='_').\n",
    "    \n",
    "    Outputs:\n",
    "    -df: DataFrame con las columnas dummies agregadas.\n",
    "    \"\"\"\n",
    "    \n",
    "    if delimiter is not None: # Si entra acá es porque hay múltiples valores en cada fila separados por algún delimitador.\n",
    "    \n",
    "        if prefix == '_':\n",
    "            prefix = column + '_'\n",
    "            \n",
    "        else:\n",
    "            prefix = column + prefix\n",
    "\n",
    "        df = df.merge(df[column].str.get_dummies(sep=delimiter).add_prefix(prefix), left_index=True, right_index=True)\n",
    "        \n",
    "    else: # Si entra acá es porque cada fila tiene un solo valor. Es básicamente un pd.get_dummies convencional.\n",
    "        \n",
    "        dummy_columns = pd.get_dummies(df[column], prefix=column)\n",
    "        df = pd.concat([df, dummy_columns], axis=1)\n",
    "\n",
    "    df.drop(columns=[column], inplace=True)\n",
    "        \n",
    "    return df"
   ]
  },
  {
   "cell_type": "markdown",
   "id": "b7da9069-d368-4f27-bb80-da5e1e97fa89",
   "metadata": {},
   "source": [
    "# Sistema de recomendación"
   ]
  },
  {
   "cell_type": "code",
   "execution_count": 618,
   "id": "f0e680bd-64ca-4ebf-86cc-fc49a19b0617",
   "metadata": {},
   "outputs": [],
   "source": [
    "def crear_columna_antiguedad(df, c):\n",
    "    \n",
    "    \"\"\"\n",
    "    Función que crea una columna 'weights' que codifica qué tan recientemente un usuario vio un show con respecto al día de la fecha.\n",
    "    Valores superiores indican shows vistos más recientemente, y viceversa.\n",
    "    \n",
    "    Inputs:\n",
    "    -df: DataFrame con información de las visualizaciones de los usuarios.\n",
    "    -c: Hiperparámetro utilizado para regular los pesos. Valores superiores confieren mayor peso a shows vistos recientemente.\n",
    "    \n",
    "    Output:\n",
    "    -df: DataFrame de entrada al que se le agregó una columna de pesos y se lo ordena cronológicamente.\n",
    "    \"\"\"\n",
    "    \n",
    "    \n",
    "    df['antiguedad'] = (datetime.now() - df.tunein)\n",
    "    df['antiguedad'] = df['antiguedad'].apply(lambda x: x.days + x.seconds/86400)\n",
    "    \n",
    "    scaler = MinMaxScaler()\n",
    "    df['antiguedad_normalizada'] = scaler.fit_transform(df[['antiguedad']])\n",
    "\n",
    "    df['weights'] = df['antiguedad_normalizada'].apply(lambda x: 1 + exp(-x*c))\n",
    "\n",
    "    df.sort_values('tunein', inplace=True)\n",
    "\n",
    "    return df"
   ]
  },
  {
   "cell_type": "code",
   "execution_count": 620,
   "id": "f01c72c8-1a46-4624-abb2-023aab61a447",
   "metadata": {},
   "outputs": [],
   "source": [
    "# Dropeamos la columna 'customer_id' porque no es relevante para el análisis. Solo nos sirve 'account_id'.\n",
    "df = df.drop(columns=['customer_id'])\n",
    "\n",
    "df = crear_columna_antiguedad(df, 4)\n",
    "\n",
    "# Hacemos un merge para agregar la columna 'content_id' al DataFrame de las visualizaciones de los usuarios.\n",
    "df = df.merge(metadata_de_chequeo[['asset_id', 'content_id']], on='asset_id')"
   ]
  },
  {
   "cell_type": "code",
   "execution_count": 65,
   "id": "92afcb0a-73a4-4d67-93ae-8ea7bb36e68e",
   "metadata": {},
   "outputs": [],
   "source": [
    "# Eliminamos unos pocos registros que no tienen content_id porque no nos sirven para el sistema de recomendación.\n",
    "metadata = metadata[~metadata.content_id.isnull()]\n",
    "\n",
    "# Borramos columnas que no sirven, tienen muchos nulos o nos aumentarían demasiado la dimensionalidad si quisiéramos incluirlas.\n",
    "to_delete = ['title', 'reduced_title', 'episode_title', 'description', 'reduced_desc', 'create_date', 'modify_date', 'start_vod_date', 'end_vod_date',\n",
    "             'cast_first_name', 'credits_first_name', 'close_caption', 'sex_rating', 'violence_rating', 'language_rating', 'dialog_rating', 'fv_rating']\n",
    "metadata = metadata.drop(columns=to_delete)\n",
    "\n",
    "# Eliminamos los content_id duplicados porque hacen referencia a cosas que para nosotros son lo mismo.\n",
    "# Por ejemplo, los episodios de una serie tienen distinto asset_id, pero el mismo content_id. Con quedarnos con un solo episodio ya nos basta.\n",
    "metadata = metadata[~metadata.content_id.duplicated()]"
   ]
  },
  {
   "cell_type": "code",
   "execution_count": 67,
   "id": "344ae5fe-cb7f-4c49-a06e-80264abb8533",
   "metadata": {},
   "outputs": [],
   "source": [
    "# Las siguientes columnas tienen 'N' e 'Y' representando 'No' y 'Yes'.\n",
    "# Cambiamos las N por 0 y las Y por 1.\n",
    "cols_to_change = ['made_for_tv', 'pay_per_view', 'pack_premium_1', 'pack_premium_2']\n",
    "metadata.loc[:, cols_to_change] = metadata[cols_to_change].replace({'N':0, 'Y':1})\n",
    "\n",
    "# Arreglamos algunas categorías mal escritas\n",
    "dict_to_replace_category = {'Accion':'Acción', 'Aventuras':'Aventura', 'Dibujos animados':'Dibujos Animados', 'Ciencia ficción':'Ciencia Ficción',\n",
    "                           'Familia':'Familiar', 'Infantil, Comedia':'Infantil/Comedia'}\n",
    "metadata.category.replace(dict_to_replace_category, inplace=True, regex=True)\n",
    "\n",
    "# Arreglamos un show_type mal escrito.\n",
    "metadata.show_type.replace({'Series,Serie':'Serie'}, inplace=True)\n",
    "\n",
    "# Hacemos que todos los valores 'audience' empiecen cada palabra con mayúscula y sigan con minúscula.\n",
    "metadata['audience'] = metadata['audience'].str.title()"
   ]
  },
  {
   "cell_type": "code",
   "execution_count": 68,
   "id": "a9260941-09dd-4725-9ceb-ef2c2b0cdaa6",
   "metadata": {},
   "outputs": [],
   "source": [
    "metadata = create_dummies(metadata, 'category', '/')\n",
    "metadata = create_dummies(metadata, 'keywords', ',')\n",
    "metadata = create_dummies(metadata, 'show_type')\n",
    "metadata = create_dummies(metadata, 'country_of_origin')\n",
    "metadata = create_dummies(metadata, 'audience')"
   ]
  },
  {
   "cell_type": "code",
   "execution_count": 69,
   "id": "85468dbd-b97b-4d8b-8b1b-8252764f0d02",
   "metadata": {},
   "outputs": [],
   "source": [
    "# Creamos una columna nueva 'years_since_premiere' que nos dice qué tan antiguo es el show.\n",
    "metadata.released_year = datetime.now().year - metadata.released_year\n",
    "metadata.rename(columns={'released_year':'years_since_premiere'}, inplace=True)"
   ]
  },
  {
   "cell_type": "code",
   "execution_count": 71,
   "id": "9d6aa233-3726-47e8-96c0-4bed19d4fe13",
   "metadata": {},
   "outputs": [],
   "source": [
    "# Reseteamos el índice del DataFrame.\n",
    "metadata.reset_index(drop=True, inplace=True)"
   ]
  },
  {
   "cell_type": "code",
   "execution_count": 627,
   "id": "954e4dfb-b354-4c20-bab2-127fe70b6c97",
   "metadata": {
    "tags": []
   },
   "outputs": [],
   "source": [
    "def create_similarity_matrix(df):\n",
    "    \n",
    "    \"\"\"\n",
    "    Función que crea la matriz de similaridad entre los shows utilizando la distancia coseno.\n",
    "    También informa el sparsity coefficient y las dimensones de la matriz. \n",
    "    \n",
    "    Inputs:\n",
    "    -df: DataFrame de shows luego de transformar las columnas categóricas.\n",
    "    \n",
    "    Outputs:\n",
    "    -similarity_matrix: Matriz de similaridad.\n",
    "    \"\"\"\n",
    "    \n",
    "    similarity_matrix = 1 - cosine_distances(df, df)\n",
    "    \n",
    "    sparsity=float(len(similarity_matrix.nonzero()[0]))\n",
    "    sparsity/=(similarity_matrix.shape[0]*similarity_matrix.shape[1])\n",
    "    sparsity*=100\n",
    "    \n",
    "    print('Coeficiente de sparseidad: {:4.2f}%'.format(sparsity))\n",
    "    print('Dimensiones de la matriz: {}'.format(similarity_matrix.shape))\n",
    "    \n",
    "    return similarity_matrix"
   ]
  },
  {
   "cell_type": "code",
   "execution_count": 80,
   "id": "60979d7f-69bd-4a7f-b5da-413f9620ee71",
   "metadata": {},
   "outputs": [
    {
     "name": "stdout",
     "output_type": "stream",
     "text": [
      "Coeficiente de sparseidad: 99.59%\n",
      "Dimensiones de la matriz: (4366, 4366)\n"
     ]
    }
   ],
   "source": [
    "similarity_matrix = create_similarity_matrix(metadata.drop(columns=['asset_id', 'content_id', 'run_time_min']))"
   ]
  },
  {
   "cell_type": "code",
   "execution_count": 628,
   "id": "ec358794-61de-4c21-8f2c-f999e2e9e74c",
   "metadata": {
    "tags": []
   },
   "outputs": [
    {
     "data": {
      "image/png": "[encoded data removed]",
      "text/plain": [
       "<Figure size 1152x648 with 2 Axes>"
      ]
     },
     "metadata": {
      "needs_background": "light"
     },
     "output_type": "display_data"
    }
   ],
   "source": [
    "n = 25\n",
    "plt.figure(figsize=(16,9))\n",
    "plt.title('Matriz de similaridad para {} shows'.format(n))\n",
    "sns.heatmap(pd.DataFrame(similarity_matrix).iloc[0:n, 0:n], linewidths=0.9, linecolor='black', xticklabels='auto')\n",
    "plt.show()"
   ]
  },
  {
   "cell_type": "code",
   "execution_count": 629,
   "id": "8c38bee8-621b-4df7-b9b5-2089f9b2a357",
   "metadata": {},
   "outputs": [],
   "source": [
    "def recomendar_shows(df_usuarios, nro_usuario, metadata, metadata_de_chequeo, similarity_matrix):\n",
    "    \n",
    "    \"\"\"\n",
    "    Función que recomienda 20 shows a un usuario (en orden de importancia descendente).\n",
    "    \n",
    "    Inputs:\n",
    "    -df_usuarios: DataFrame con las visualizaciones de los usuarios.\n",
    "    -nro_usuario: Usuario al que se desea efectuarle las recomendaciones.\n",
    "    -metadata: DataFrame ya procesado con información sobre los shows.\n",
    "    -metadata_de_chequeo: DataFrame con información sobre los shows, pero sin procesar.\n",
    "    -similarity_matrix: Matriz de similaridad entre shows.\n",
    "    \n",
    "    Outputs:\n",
    "    -recomendaciones: DataFrame con 20 recomendaciones para el usuario.\n",
    "    -recomendaciones_formato_entregable: DataFrame reducido con 20 recomendaciones para el usuario.\n",
    "    \"\"\"\n",
    "    \n",
    "    # Filtramos el dataset de usuarios para quedarnos solo con el que se pide por parámetro.\n",
    "    user = df_usuarios[df_usuarios.account_id==nro_usuario]\n",
    "    \n",
    "    # Si el usuario vio varias veces el mismo show, nos quedamos solo con el último de esos registros.\n",
    "    user = user[~user.content_id.duplicated(keep='last')]\n",
    "\n",
    "    # Unimos los datos del usuario con los de los shows para tener lo que nos interesa: el content_id de cada show que vio.\n",
    "    user = user[['account_id', 'content_id', 'weights']]\n",
    "\n",
    "    # Obtenemos los índices que corresponden a los content_id que vio el usuario.\n",
    "    indices = metadata[metadata.content_id.isin(list(user.content_id))].index\n",
    "    \n",
    "    # Usamos esos índices para filtrar la matriz de similaridad y quedarnos solo con las filas que corresponden a los contenidos que vio el usuario.\n",
    "    vistas_usuario = similarity_matrix.loc[indices, :]\n",
    "    \n",
    "    weights = np.array(user.sort_values('content_id')['weights']).reshape(1, -1)\n",
    "\n",
    "    # Sumamos los puntajes de similitud (con sus respectivos pesos) que tuvo cada show del dataset con respecto a los shows que vio el usuario.\n",
    "    resultados = np.matmul(weights, vistas_usuario)\n",
    "\n",
    "    # De todos los resultados quitamos los que corresponden a shows que el usuario ya había visto.\n",
    "    # Si no hiciéramos esto, se le recomendarían shows que ya habría visto.\n",
    "    resultados_filtrados = resultados[~resultados.index.isin(list(vistas_usuario.index))]\n",
    "\n",
    "    # Nos quedamos con los 20 mejores puntajes.\n",
    "    resultados_final = pd.Series(resultados_filtrados.iloc[0]).sort_values(ascending=False)[0:20]\n",
    "    \n",
    "    # Obtenemos los content_id recomendados para el usuario.\n",
    "    content_id_recomendados = list(metadata.loc[resultados_final.index, 'content_id'])\n",
    "    \n",
    "    # En el dataset de metadata original (sin modificaciones), buscamos los shows que tienen esos content_id.\n",
    "    recomendaciones = metadata_de_chequeo[metadata_de_chequeo.content_id.isin(content_id_recomendados)]\n",
    "    \n",
    "    # Como nos basta con recomendar un content_id (no necesitamos recomendar cada uno de sus asset_id asociados), hacemos un último filtro.\n",
    "    recomendaciones = recomendaciones[~recomendaciones.content_id.duplicated()]\n",
    "    recomendaciones = recomendaciones.set_index(resultados_final.index)\n",
    "    \n",
    "    recomendaciones_formato_entregable = pd.DataFrame({'account_id':nro_usuario, 'content_ids':[list(recomendaciones.content_id.astype(int))]})\n",
    "    \n",
    "    return recomendaciones, recomendaciones_formato_entregable"
   ]
  },
  {
   "cell_type": "code",
   "execution_count": 637,
   "id": "272dc470-951b-4e6d-acab-54a11c384bb3",
   "metadata": {},
   "outputs": [],
   "source": [
    "def crear_entregable(df_usuarios, metadata, metadata_de_chequeo, similarity_matrix, filename):\n",
    "    \n",
    "    \"\"\"\n",
    "    Función que realiza las recomendaciones para todos los usuarios y crea un archivo .csv.\n",
    "    \n",
    "    Inputs:\n",
    "    -df_usuarios: DataFrame con las visualizaciones de los usuarios.\n",
    "    -metadata: DataFrame ya procesado con información sobre los shows.\n",
    "    -metadata_de_chequeo: DataFrame con información sobre los shows, pero sin procesar.\n",
    "    -similarity_matrix: Matriz de similaridad entre shows.\n",
    "    -filename: Nombre del archivo con las recomendaciones.\n",
    "    \"\"\"\n",
    "    \n",
    "    similarity_matrix = pd.DataFrame(similarity_matrix)\n",
    "    users_list = np.sort(df_usuarios.account_id.unique())\n",
    "    df_entregable = pd.DataFrame({'account_id':None, 'content_ids':None}, index=[0])\n",
    "    \n",
    "    for user in users_list:\n",
    "        \n",
    "        clear_output(wait=True)\n",
    "        print('Procesando usuario {} de {}.'.format(user, len(users_list)))\n",
    "        _, entregable = recomendar_shows(df_usuarios, user, metadata, metadata_de_chequeo, similarity_matrix)\n",
    "        df_entregable = pd.concat([df_entregable, entregable], ignore_index=True)\n",
    "            \n",
    "    df_entregable = df_entregable.reset_index(drop=True)\n",
    "    df_entregable.drop([0], inplace=True)\n",
    "    df_entregable.reset_index(drop=True, inplace=True)\n",
    "    df_entregable.to_csv(filename, header=False, index=False)\n",
    "       \n",
    "    return None"
   ]
  },
  {
   "cell_type": "code",
   "execution_count": 269,
   "id": "70a7647f-0cf0-4d1d-a77a-ead7e583ac16",
   "metadata": {},
   "outputs": [
    {
     "name": "stdout",
     "output_type": "stream",
     "text": [
      "Procesando usuario 113880\n"
     ]
    }
   ],
   "source": [
    "crear_entregable(df, metadata, metadata_de_chequeo, similarity_matrix, 'hola.csv')"
   ]
  }
 ],
 "metadata": {
  "kernelspec": {
   "display_name": "Python 3",
   "language": "python",
   "name": "python3"
  },
  "language_info": {
   "codemirror_mode": {
    "name": "ipython",
    "version": 3
   },
   "file_extension": ".py",
   "mimetype": "text/x-python",
   "name": "python",
   "nbconvert_exporter": "python",
   "pygments_lexer": "ipython3",
   "version": "3.8.10"
  }
 },
 "nbformat": 4,
 "nbformat_minor": 5
}
