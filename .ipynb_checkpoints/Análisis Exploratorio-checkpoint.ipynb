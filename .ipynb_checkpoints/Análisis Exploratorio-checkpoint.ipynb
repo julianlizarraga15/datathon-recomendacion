{
 "cells": [
  {
   "cell_type": "code",
   "execution_count": 66,
   "id": "ec779e01",
   "metadata": {},
   "outputs": [],
   "source": [
    "import pandas as pd\n",
    "import numpy as np\n",
    "import matplotlib.pyplot as plt\n",
    "import seaborn as sns\n",
    "from datetime import datetime\n",
    "import copy\n",
    "pd.set_option('display.max_columns', None)"
   ]
  },
  {
   "cell_type": "code",
   "execution_count": 3,
   "id": "e93ffe5c",
   "metadata": {},
   "outputs": [
    {
     "name": "stdout",
     "output_type": "stream",
     "text": [
      "(3657801, 7)\n",
      "(33144, 30)\n"
     ]
    }
   ],
   "source": [
    "location_juli_1 = r'C:\\Users\\jlizarraga\\Documents\\datathon-datasets\\train.csv'\n",
    "location_juli_2 = r'C:\\Users\\jlizarraga\\Documents\\datathon-datasets\\metadata.csv'\n",
    "\n",
    "location_fer_1 = r'C:\\Users\\fmrodriguez\\Competencia\\datathon-recomendacion\\train.csv'\n",
    "location_fer_2 = r'C:\\Users\\fmrodriguez\\Competencia\\datathon-recomendacion\\metadata.csv'\n",
    "\n",
    "\n",
    "# Cada uno tiene que cambiar la dirección de los datasets cuando corra la notebook.\n",
    "df = pd.read_csv(location_juli_1)\n",
    "metadata = pd.read_csv(location_juli_2, sep=';')\n",
    "\n",
    "print(df.shape)\n",
    "print(metadata.shape)"
   ]
  },
  {
   "cell_type": "code",
   "execution_count": 4,
   "id": "221e0f78",
   "metadata": {},
   "outputs": [
    {
     "data": {
      "text/html": [
       "<div>\n",
       "<style scoped>\n",
       "    .dataframe tbody tr th:only-of-type {\n",
       "        vertical-align: middle;\n",
       "    }\n",
       "\n",
       "    .dataframe tbody tr th {\n",
       "        vertical-align: top;\n",
       "    }\n",
       "\n",
       "    .dataframe thead th {\n",
       "        text-align: right;\n",
       "    }\n",
       "</style>\n",
       "<table border=\"1\" class=\"dataframe\">\n",
       "  <thead>\n",
       "    <tr style=\"text-align: right;\">\n",
       "      <th></th>\n",
       "      <th>customer_id</th>\n",
       "      <th>account_id</th>\n",
       "      <th>device_type</th>\n",
       "      <th>asset_id</th>\n",
       "      <th>tunein</th>\n",
       "      <th>tuneout</th>\n",
       "      <th>resume</th>\n",
       "    </tr>\n",
       "  </thead>\n",
       "  <tbody>\n",
       "    <tr>\n",
       "      <th>0</th>\n",
       "      <td>0</td>\n",
       "      <td>90627</td>\n",
       "      <td>STATIONARY</td>\n",
       "      <td>18332.0</td>\n",
       "      <td>2021-02-18 22:52:00.0</td>\n",
       "      <td>2021-02-18 23:35:00.0</td>\n",
       "      <td>0</td>\n",
       "    </tr>\n",
       "    <tr>\n",
       "      <th>1</th>\n",
       "      <td>0</td>\n",
       "      <td>90627</td>\n",
       "      <td>STATIONARY</td>\n",
       "      <td>24727.0</td>\n",
       "      <td>2021-03-24 23:17:00.0</td>\n",
       "      <td>2021-03-25 00:01:00.0</td>\n",
       "      <td>0</td>\n",
       "    </tr>\n",
       "    <tr>\n",
       "      <th>2</th>\n",
       "      <td>1</td>\n",
       "      <td>3387</td>\n",
       "      <td>STB</td>\n",
       "      <td>895.0</td>\n",
       "      <td>2021-03-15 10:05:00.0</td>\n",
       "      <td>2021-03-15 10:23:00.0</td>\n",
       "      <td>0</td>\n",
       "    </tr>\n",
       "    <tr>\n",
       "      <th>3</th>\n",
       "      <td>1</td>\n",
       "      <td>3387</td>\n",
       "      <td>STB</td>\n",
       "      <td>895.0</td>\n",
       "      <td>2021-03-15 10:23:00.0</td>\n",
       "      <td>2021-03-15 11:18:00.0</td>\n",
       "      <td>1</td>\n",
       "    </tr>\n",
       "    <tr>\n",
       "      <th>4</th>\n",
       "      <td>1</td>\n",
       "      <td>3387</td>\n",
       "      <td>STB</td>\n",
       "      <td>26062.0</td>\n",
       "      <td>2021-03-16 09:24:00.0</td>\n",
       "      <td>2021-03-16 09:44:00.0</td>\n",
       "      <td>0</td>\n",
       "    </tr>\n",
       "  </tbody>\n",
       "</table>\n",
       "</div>"
      ],
      "text/plain": [
       "   customer_id  account_id device_type  asset_id                 tunein  \\\n",
       "0            0       90627  STATIONARY   18332.0  2021-02-18 22:52:00.0   \n",
       "1            0       90627  STATIONARY   24727.0  2021-03-24 23:17:00.0   \n",
       "2            1        3387         STB     895.0  2021-03-15 10:05:00.0   \n",
       "3            1        3387         STB     895.0  2021-03-15 10:23:00.0   \n",
       "4            1        3387         STB   26062.0  2021-03-16 09:24:00.0   \n",
       "\n",
       "                 tuneout  resume  \n",
       "0  2021-02-18 23:35:00.0       0  \n",
       "1  2021-03-25 00:01:00.0       0  \n",
       "2  2021-03-15 10:23:00.0       0  \n",
       "3  2021-03-15 11:18:00.0       1  \n",
       "4  2021-03-16 09:44:00.0       0  "
      ]
     },
     "execution_count": 4,
     "metadata": {},
     "output_type": "execute_result"
    }
   ],
   "source": [
    "df.head()"
   ]
  },
  {
   "cell_type": "code",
   "execution_count": 5,
   "id": "942fc815-5acc-4798-93b5-2cbd5635b458",
   "metadata": {},
   "outputs": [
    {
     "name": "stdout",
     "output_type": "stream",
     "text": [
      "Cantidad de usuarios únicos:\n"
     ]
    },
    {
     "data": {
      "text/plain": [
       "113881"
      ]
     },
     "execution_count": 5,
     "metadata": {},
     "output_type": "execute_result"
    }
   ],
   "source": [
    "print('Cantidad de usuarios únicos:')\n",
    "len(df.account_id.unique())"
   ]
  },
  {
   "cell_type": "code",
   "execution_count": 6,
   "id": "58be74b0",
   "metadata": {},
   "outputs": [
    {
     "data": {
      "text/html": [
       "<div>\n",
       "<style scoped>\n",
       "    .dataframe tbody tr th:only-of-type {\n",
       "        vertical-align: middle;\n",
       "    }\n",
       "\n",
       "    .dataframe tbody tr th {\n",
       "        vertical-align: top;\n",
       "    }\n",
       "\n",
       "    .dataframe thead th {\n",
       "        text-align: right;\n",
       "    }\n",
       "</style>\n",
       "<table border=\"1\" class=\"dataframe\">\n",
       "  <thead>\n",
       "    <tr style=\"text-align: right;\">\n",
       "      <th></th>\n",
       "      <th>asset_id</th>\n",
       "      <th>content_id</th>\n",
       "      <th>title</th>\n",
       "      <th>reduced_title</th>\n",
       "      <th>episode_title</th>\n",
       "      <th>show_type</th>\n",
       "      <th>released_year</th>\n",
       "      <th>country_of_origin</th>\n",
       "      <th>category</th>\n",
       "      <th>keywords</th>\n",
       "      <th>description</th>\n",
       "      <th>reduced_desc</th>\n",
       "      <th>cast_first_name</th>\n",
       "      <th>credits_first_name</th>\n",
       "      <th>run_time_min</th>\n",
       "      <th>audience</th>\n",
       "      <th>made_for_tv</th>\n",
       "      <th>close_caption</th>\n",
       "      <th>sex_rating</th>\n",
       "      <th>violence_rating</th>\n",
       "      <th>language_rating</th>\n",
       "      <th>dialog_rating</th>\n",
       "      <th>fv_rating</th>\n",
       "      <th>pay_per_view</th>\n",
       "      <th>pack_premium_1</th>\n",
       "      <th>pack_premium_2</th>\n",
       "      <th>create_date</th>\n",
       "      <th>modify_date</th>\n",
       "      <th>start_vod_date</th>\n",
       "      <th>end_vod_date</th>\n",
       "    </tr>\n",
       "  </thead>\n",
       "  <tbody>\n",
       "    <tr>\n",
       "      <th>0</th>\n",
       "      <td>15188</td>\n",
       "      <td>0.0</td>\n",
       "      <td>Ep:17 Tiempos Compulsivos</td>\n",
       "      <td>Tiempos_Compul_E17</td>\n",
       "      <td>Episodio 17</td>\n",
       "      <td>Serie</td>\n",
       "      <td>2012.0</td>\n",
       "      <td>AR</td>\n",
       "      <td>Drama</td>\n",
       "      <td>Trastornos,Médicos,Tragicómica,Telenovela,Enfe...</td>\n",
       "      <td>Esteban recibe una noticia inesperada: va a se...</td>\n",
       "      <td>Esteban recibe una noticia inesperada: va a se...</td>\n",
       "      <td>Rodrigo De la Serna, Paola Krum, Fernán Mirás,...</td>\n",
       "      <td>Daniel Barone</td>\n",
       "      <td>48.0</td>\n",
       "      <td>General</td>\n",
       "      <td>N</td>\n",
       "      <td>N</td>\n",
       "      <td>N</td>\n",
       "      <td>N</td>\n",
       "      <td>N</td>\n",
       "      <td>N</td>\n",
       "      <td>N</td>\n",
       "      <td>N</td>\n",
       "      <td>N</td>\n",
       "      <td>N</td>\n",
       "      <td>2017-12-01T10:18:15.0Z</td>\n",
       "      <td>2019-01-26T06:37:18.0Z</td>\n",
       "      <td>2017-12-01T00:00:00.0Z</td>\n",
       "      <td>2020-12-01T23:59:59.0Z</td>\n",
       "    </tr>\n",
       "    <tr>\n",
       "      <th>1</th>\n",
       "      <td>24940</td>\n",
       "      <td>1.0</td>\n",
       "      <td>7 Cajas</td>\n",
       "      <td>7_Cajas</td>\n",
       "      <td>NaN</td>\n",
       "      <td>Película</td>\n",
       "      <td>2012.0</td>\n",
       "      <td>PY</td>\n",
       "      <td>Suspenso/Acción</td>\n",
       "      <td>Latinoamérica,Pobreza,Crimen,Pandillas</td>\n",
       "      <td>Víctor trabaja como carretillero. Un día recib...</td>\n",
       "      <td>Trabajando como carretillero, Víctor recibe un...</td>\n",
       "      <td>Celso Franco, Víctor Sosa, Lali Gonzalez</td>\n",
       "      <td>Juan Carlos Maneglia</td>\n",
       "      <td>105.0</td>\n",
       "      <td>General</td>\n",
       "      <td>N</td>\n",
       "      <td>N</td>\n",
       "      <td>N</td>\n",
       "      <td>N</td>\n",
       "      <td>N</td>\n",
       "      <td>N</td>\n",
       "      <td>N</td>\n",
       "      <td>Y</td>\n",
       "      <td>N</td>\n",
       "      <td>N</td>\n",
       "      <td>2017-12-19T20:58:15.0Z</td>\n",
       "      <td>2019-09-17T19:02:03.0Z</td>\n",
       "      <td>2017-12-15T00:00:00.0Z</td>\n",
       "      <td>2022-12-14T23:59:59.0Z</td>\n",
       "    </tr>\n",
       "  </tbody>\n",
       "</table>\n",
       "</div>"
      ],
      "text/plain": [
       "   asset_id  content_id                      title       reduced_title  \\\n",
       "0     15188         0.0  Ep:17 Tiempos Compulsivos  Tiempos_Compul_E17   \n",
       "1     24940         1.0                    7 Cajas             7_Cajas   \n",
       "\n",
       "  episode_title show_type  released_year country_of_origin         category  \\\n",
       "0   Episodio 17     Serie         2012.0                AR            Drama   \n",
       "1           NaN  Película         2012.0                PY  Suspenso/Acción   \n",
       "\n",
       "                                            keywords  \\\n",
       "0  Trastornos,Médicos,Tragicómica,Telenovela,Enfe...   \n",
       "1             Latinoamérica,Pobreza,Crimen,Pandillas   \n",
       "\n",
       "                                         description  \\\n",
       "0  Esteban recibe una noticia inesperada: va a se...   \n",
       "1  Víctor trabaja como carretillero. Un día recib...   \n",
       "\n",
       "                                        reduced_desc  \\\n",
       "0  Esteban recibe una noticia inesperada: va a se...   \n",
       "1  Trabajando como carretillero, Víctor recibe un...   \n",
       "\n",
       "                                     cast_first_name    credits_first_name  \\\n",
       "0  Rodrigo De la Serna, Paola Krum, Fernán Mirás,...         Daniel Barone   \n",
       "1           Celso Franco, Víctor Sosa, Lali Gonzalez  Juan Carlos Maneglia   \n",
       "\n",
       "   run_time_min audience made_for_tv close_caption sex_rating violence_rating  \\\n",
       "0          48.0  General           N             N          N               N   \n",
       "1         105.0  General           N             N          N               N   \n",
       "\n",
       "  language_rating dialog_rating fv_rating pay_per_view pack_premium_1  \\\n",
       "0               N             N         N            N              N   \n",
       "1               N             N         N            Y              N   \n",
       "\n",
       "  pack_premium_2             create_date             modify_date  \\\n",
       "0              N  2017-12-01T10:18:15.0Z  2019-01-26T06:37:18.0Z   \n",
       "1              N  2017-12-19T20:58:15.0Z  2019-09-17T19:02:03.0Z   \n",
       "\n",
       "           start_vod_date            end_vod_date  \n",
       "0  2017-12-01T00:00:00.0Z  2020-12-01T23:59:59.0Z  \n",
       "1  2017-12-15T00:00:00.0Z  2022-12-14T23:59:59.0Z  "
      ]
     },
     "execution_count": 6,
     "metadata": {},
     "output_type": "execute_result"
    }
   ],
   "source": [
    "metadata.head(2)"
   ]
  },
  {
   "cell_type": "code",
   "execution_count": 7,
   "id": "c17db216-f1cd-4f5d-b919-4c7febaca9b1",
   "metadata": {},
   "outputs": [
    {
     "data": {
      "text/plain": [
       "4367"
      ]
     },
     "execution_count": 7,
     "metadata": {},
     "output_type": "execute_result"
    }
   ],
   "source": [
    "len(metadata.content_id.unique())"
   ]
  },
  {
   "cell_type": "code",
   "execution_count": 8,
   "id": "e6ab9c41-673a-4713-a1c3-7099d607870d",
   "metadata": {},
   "outputs": [
    {
     "name": "stdout",
     "output_type": "stream",
     "text": [
      "3260\n",
      "11\n"
     ]
    }
   ],
   "source": [
    "print(len(metadata.credits_first_name.unique()))\n",
    "print(len(metadata.audience.unique()))"
   ]
  },
  {
   "cell_type": "code",
   "execution_count": 9,
   "id": "21da247b",
   "metadata": {},
   "outputs": [
    {
     "name": "stdout",
     "output_type": "stream",
     "text": [
      "<class 'pandas.core.frame.DataFrame'>\n",
      "RangeIndex: 3657801 entries, 0 to 3657800\n",
      "Data columns (total 7 columns):\n",
      " #   Column       Dtype  \n",
      "---  ------       -----  \n",
      " 0   customer_id  int64  \n",
      " 1   account_id   int64  \n",
      " 2   device_type  object \n",
      " 3   asset_id     float64\n",
      " 4   tunein       object \n",
      " 5   tuneout      object \n",
      " 6   resume       int64  \n",
      "dtypes: float64(1), int64(3), object(3)\n",
      "memory usage: 195.3+ MB\n"
     ]
    }
   ],
   "source": [
    "df.info()"
   ]
  },
  {
   "cell_type": "code",
   "execution_count": 10,
   "id": "f8633e1e",
   "metadata": {},
   "outputs": [
    {
     "name": "stdout",
     "output_type": "stream",
     "text": [
      "<class 'pandas.core.frame.DataFrame'>\n",
      "RangeIndex: 33144 entries, 0 to 33143\n",
      "Data columns (total 30 columns):\n",
      " #   Column              Non-Null Count  Dtype  \n",
      "---  ------              --------------  -----  \n",
      " 0   asset_id            33144 non-null  int64  \n",
      " 1   content_id          33123 non-null  float64\n",
      " 2   title               33144 non-null  object \n",
      " 3   reduced_title       33144 non-null  object \n",
      " 4   episode_title       28997 non-null  object \n",
      " 5   show_type           33140 non-null  object \n",
      " 6   released_year       33144 non-null  float64\n",
      " 7   country_of_origin   33140 non-null  object \n",
      " 8   category            33144 non-null  object \n",
      " 9   keywords            33142 non-null  object \n",
      " 10  description         33142 non-null  object \n",
      " 11  reduced_desc        33144 non-null  object \n",
      " 12  cast_first_name     24412 non-null  object \n",
      " 13  credits_first_name  20590 non-null  object \n",
      " 14  run_time_min        33144 non-null  float64\n",
      " 15  audience            33143 non-null  object \n",
      " 16  made_for_tv         33144 non-null  object \n",
      " 17  close_caption       33144 non-null  object \n",
      " 18  sex_rating          33144 non-null  object \n",
      " 19  violence_rating     33144 non-null  object \n",
      " 20  language_rating     33144 non-null  object \n",
      " 21  dialog_rating       33144 non-null  object \n",
      " 22  fv_rating           33144 non-null  object \n",
      " 23  pay_per_view        33144 non-null  object \n",
      " 24  pack_premium_1      33144 non-null  object \n",
      " 25  pack_premium_2      33144 non-null  object \n",
      " 26  create_date         33144 non-null  object \n",
      " 27  modify_date         33144 non-null  object \n",
      " 28  start_vod_date      33144 non-null  object \n",
      " 29  end_vod_date        33144 non-null  object \n",
      "dtypes: float64(3), int64(1), object(26)\n",
      "memory usage: 7.6+ MB\n"
     ]
    }
   ],
   "source": [
    "metadata.info()"
   ]
  },
  {
   "cell_type": "code",
   "execution_count": 11,
   "id": "b7cdb554-0706-4474-bbcb-69e4cfb9a9c8",
   "metadata": {
    "tags": []
   },
   "outputs": [],
   "source": [
    "# Borramos columnas que no sirven o tienen muchos nulos.\n",
    "\n",
    "to_delete = ['title', 'reduced_title', 'episode_title', 'description', 'reduced_desc', 'create_date', 'modify_date', 'start_vod_date', 'end_vod_date']\n",
    "metadata = metadata.drop(columns=to_delete)"
   ]
  },
  {
   "cell_type": "code",
   "execution_count": 12,
   "id": "6c043006",
   "metadata": {},
   "outputs": [],
   "source": [
    "# Esta función pasa de string a datetime las columnas que se desea.\n",
    "\n",
    "def cast_object_to_datetime(df, columns, the_format):\n",
    "    \n",
    "    for column in columns:\n",
    "        \n",
    "        df[column] = df[column].apply(lambda x: x if x is None else datetime.strptime(x[:-2], the_format))\n",
    "        \n",
    "    return df"
   ]
  },
  {
   "cell_type": "code",
   "execution_count": 13,
   "id": "9e60038d",
   "metadata": {},
   "outputs": [],
   "source": [
    "# Transformamos a datetime las columnas 'tunein' y 'tuneout'\n",
    "df = cast_object_to_datetime(df, ['tunein', 'tuneout'], '%Y-%m-%d %H:%M:%S')"
   ]
  },
  {
   "cell_type": "code",
   "execution_count": 14,
   "id": "945e1e63-dbb8-4dfd-aed2-3171440de8bb",
   "metadata": {},
   "outputs": [],
   "source": [
    "# Creamos una columna que sea el tiempo que la persona estuvo mirando la serie/película.\n",
    "# Es la diferencia entre cuando empezó y cuando terminó.\n",
    "\n",
    "df['time_watching'] = df['tuneout'] - df['tunein']\n",
    "df = df.drop(columns=['tunein', 'tuneout'])"
   ]
  },
  {
   "cell_type": "code",
   "execution_count": 15,
   "id": "f56cbf5c-5dc1-4749-a797-5f1b7b444c82",
   "metadata": {},
   "outputs": [
    {
     "data": {
      "text/html": [
       "<div>\n",
       "<style scoped>\n",
       "    .dataframe tbody tr th:only-of-type {\n",
       "        vertical-align: middle;\n",
       "    }\n",
       "\n",
       "    .dataframe tbody tr th {\n",
       "        vertical-align: top;\n",
       "    }\n",
       "\n",
       "    .dataframe thead th {\n",
       "        text-align: right;\n",
       "    }\n",
       "</style>\n",
       "<table border=\"1\" class=\"dataframe\">\n",
       "  <thead>\n",
       "    <tr style=\"text-align: right;\">\n",
       "      <th></th>\n",
       "      <th>time_watching</th>\n",
       "    </tr>\n",
       "  </thead>\n",
       "  <tbody>\n",
       "    <tr>\n",
       "      <th>count</th>\n",
       "      <td>3.657801e+06</td>\n",
       "    </tr>\n",
       "    <tr>\n",
       "      <th>mean</th>\n",
       "      <td>2.697473e+01</td>\n",
       "    </tr>\n",
       "    <tr>\n",
       "      <th>std</th>\n",
       "      <td>2.938743e+01</td>\n",
       "    </tr>\n",
       "    <tr>\n",
       "      <th>min</th>\n",
       "      <td>2.000000e+00</td>\n",
       "    </tr>\n",
       "    <tr>\n",
       "      <th>25%</th>\n",
       "      <td>7.000000e+00</td>\n",
       "    </tr>\n",
       "    <tr>\n",
       "      <th>50%</th>\n",
       "      <td>1.700000e+01</td>\n",
       "    </tr>\n",
       "    <tr>\n",
       "      <th>75%</th>\n",
       "      <td>3.900000e+01</td>\n",
       "    </tr>\n",
       "    <tr>\n",
       "      <th>max</th>\n",
       "      <td>2.400000e+02</td>\n",
       "    </tr>\n",
       "  </tbody>\n",
       "</table>\n",
       "</div>"
      ],
      "text/plain": [
       "       time_watching\n",
       "count   3.657801e+06\n",
       "mean    2.697473e+01\n",
       "std     2.938743e+01\n",
       "min     2.000000e+00\n",
       "25%     7.000000e+00\n",
       "50%     1.700000e+01\n",
       "75%     3.900000e+01\n",
       "max     2.400000e+02"
      ]
     },
     "execution_count": 15,
     "metadata": {},
     "output_type": "execute_result"
    }
   ],
   "source": [
    "# Pasamos esa columna nueva de tipo timedelta a float para que sea más fácil de usar.\n",
    "# Luego obtenemos algunas métricas sobre el tiempo que pasa la gente viendo las series/películas.\n",
    "\n",
    "df['time_watching'] = df['time_watching'].apply(lambda x: x.total_seconds() / 60)\n",
    "df[['time_watching']].describe()"
   ]
  },
  {
   "cell_type": "code",
   "execution_count": 16,
   "id": "28160c50-f22e-4310-8815-2ac169372936",
   "metadata": {},
   "outputs": [
    {
     "data": {
      "text/plain": [
       "(array([2396795.,  704904.,  286120.,  134362.,   78246.,   25482.,\n",
       "          12785.,    8316.,    6127.,    4664.]),\n",
       " array([  2. ,  25.8,  49.6,  73.4,  97.2, 121. , 144.8, 168.6, 192.4,\n",
       "        216.2, 240. ]),\n",
       " <BarContainer object of 10 artists>)"
      ]
     },
     "execution_count": 16,
     "metadata": {},
     "output_type": "execute_result"
    },
    {
     "data": {
      "image/png": "[encoded data removed]",
      "text/plain": [
       "<Figure size 432x288 with 1 Axes>"
      ]
     },
     "metadata": {
      "needs_background": "light"
     },
     "output_type": "display_data"
    }
   ],
   "source": [
    "plt.hist(df.time_watching)"
   ]
  },
  {
   "cell_type": "code",
   "execution_count": 79,
   "id": "6a7b6827-294d-4f46-a9ef-0369b013d211",
   "metadata": {},
   "outputs": [
    {
     "name": "stderr",
     "output_type": "stream",
     "text": [
      "C:\\Users\\jlizarraga\\Anaconda3\\envs\\practia\\lib\\site-packages\\seaborn\\_decorators.py:36: FutureWarning: Pass the following variable as a keyword arg: x. From version 0.12, the only valid positional argument will be `data`, and passing other arguments without an explicit keyword will result in an error or misinterpretation.\n",
      "  warnings.warn(\n"
     ]
    },
    {
     "data": {
      "text/plain": [
       "<AxesSubplot:xlabel='time_watching'>"
      ]
     },
     "execution_count": 79,
     "metadata": {},
     "output_type": "execute_result"
    },
    {
     "data": {
      "image/png": "[encoded data removed]",
      "text/plain": [
       "<Figure size 432x288 with 1 Axes>"
      ]
     },
     "metadata": {
      "needs_background": "light"
     },
     "output_type": "display_data"
    }
   ],
   "source": [
    "sns.boxplot(df.time_watching)"
   ]
  },
  {
   "cell_type": "code",
   "execution_count": 17,
   "id": "a092c912-1991-4432-af21-cfa7daa8b2d1",
   "metadata": {},
   "outputs": [
    {
     "data": {
      "text/plain": [
       "STB             2993554\n",
       "STATIONARY       224711\n",
       "PHONE            216474\n",
       "CLOUD_CLIENT     174522\n",
       "TABLET            48511\n",
       "Name: device_type, dtype: int64"
      ]
     },
     "execution_count": 17,
     "metadata": {},
     "output_type": "execute_result"
    }
   ],
   "source": [
    "# Vemos cuáles son los tipos de dispositivo más usados.\n",
    "# No sabemos si sirve para el modelo.\n",
    "\n",
    "df.device_type.value_counts()"
   ]
  },
  {
   "cell_type": "code",
   "execution_count": 18,
   "id": "44184855-8255-43cb-b496-e2cc0b9fcf7b",
   "metadata": {},
   "outputs": [],
   "source": [
    "# Dropeamos la columna 'customer_id' porque no es relevante para el análisis. Solo nos sirve 'account_id'.\n",
    "\n",
    "df = df.drop(columns=['customer_id'])"
   ]
  },
  {
   "cell_type": "code",
   "execution_count": 19,
   "id": "a0797ca5-fbae-4b2a-985f-14a0f0317f10",
   "metadata": {},
   "outputs": [
    {
     "data": {
      "text/plain": [
       "TV              15681\n",
       "Serie           10905\n",
       "Película         4025\n",
       "Web              1386\n",
       "Gaming            844\n",
       "Rolling           275\n",
       "Tutorial           21\n",
       "Series,Serie        3\n",
       "Name: show_type, dtype: int64"
      ]
     },
     "execution_count": 19,
     "metadata": {},
     "output_type": "execute_result"
    }
   ],
   "source": [
    "metadata.show_type.value_counts()"
   ]
  },
  {
   "cell_type": "code",
   "execution_count": 20,
   "id": "1f099896-b195-4977-a47c-33f2c5285e86",
   "metadata": {},
   "outputs": [],
   "source": [
    "metadata.replace({'Series,Serie':'Serie'}, inplace=True)"
   ]
  },
  {
   "cell_type": "code",
   "execution_count": 23,
   "id": "4e9a97cc-bfcf-43bc-9adc-6c88031f04d7",
   "metadata": {},
   "outputs": [
    {
     "data": {
      "text/plain": [
       "Text(0.5, 1.0, 'Cantidad de shows por tipo')"
      ]
     },
     "execution_count": 23,
     "metadata": {},
     "output_type": "execute_result"
    },
    {
     "data": {
      "image/png": "[encoded data removed]",
      "text/plain": [
       "<Figure size 432x288 with 1 Axes>"
      ]
     },
     "metadata": {
      "needs_background": "light"
     },
     "output_type": "display_data"
    }
   ],
   "source": [
    "sns.countplot(x='show_type', data=metadata, order=metadata.show_type.value_counts().index)\n",
    "plt.xticks(rotation=45)\n",
    "plt.title('Cantidad de shows por tipo')"
   ]
  },
  {
   "cell_type": "code",
   "execution_count": 75,
   "id": "69099878-621a-4fab-9961-22b1eee97446",
   "metadata": {},
   "outputs": [],
   "source": [
    "# Esta función se utiliza cuando hay una columna que tiene registros con dos o más valores separador por algún delimitador (e.g. una coma o un espacio).\n",
    "# La función crea N nuevas columnas para almacenar cada valor por separado. \n",
    "# N está dada por la cantidad de valores que tiene la fila con mayor cantidad de valores separados por el delimitador.\n",
    "\n",
    "# Recibe como parámetros un DataFrame (df), la columna que se desea separar (column_to_split) y el delimitador presente en dicha columna (delimiter).\n",
    "\n",
    "def split_column(df, column_to_split, delimiter):\n",
    "    \n",
    "    max_number_of_splits = df[column_to_split].str.count(delimiter).max()\n",
    "    list_of_new_columns = []\n",
    "    \n",
    "    for n in range(1, int(max_number_of_splits)+2):\n",
    "        list_of_new_columns.append(column_to_split+'_{}'.format(n))\n",
    "        \n",
    "    df[list_of_new_columns] = df[column_to_split].str.split(delimiter, expand=True)\n",
    "    df.drop(columns=[column_to_split], inplace=True)\n",
    "    \n",
    "    return df"
   ]
  },
  {
   "cell_type": "code",
   "execution_count": 58,
   "id": "83735ea6-1025-4fe4-9777-afbc01b8a6d5",
   "metadata": {},
   "outputs": [],
   "source": [
    "# Hay activos que tienen dos categorías en lugar de una, por lo cual vamos a usar dos columnas para las categorías en lugar de una.\n",
    "# Los activos que tengan dos categorías tendrán una en cada columna; los que tengan solo una tendrán un None en 'category_2'.\n",
    "metadata = split_column(metadata, 'category', '/')\n",
    "\n",
    "# Hacemos que cada palabra del string comience con mayúscula.\n",
    "metadata['category_1'] = metadata['category_1'].str.title()\n",
    "metadata['category_2'] = metadata['category_2'].str.title()"
   ]
  },
  {
   "cell_type": "code",
   "execution_count": 77,
   "id": "1b5e8b3b-8c4a-4ea0-b303-6c84633b0850",
   "metadata": {},
   "outputs": [],
   "source": [
    "# Hacemos lo mismo que con la columna 'category', pero con la columna 'keywords'.\n",
    "\n",
    "metadata = split_column(metadata, 'keywords', ',')"
   ]
  }
 ],
 "metadata": {
  "kernelspec": {
   "display_name": "Python 3",
   "language": "python",
   "name": "python3"
  },
  "language_info": {
   "codemirror_mode": {
    "name": "ipython",
    "version": 3
   },
   "file_extension": ".py",
   "mimetype": "text/x-python",
   "name": "python",
   "nbconvert_exporter": "python",
   "pygments_lexer": "ipython3",
   "version": "3.8.10"
  }
 },
 "nbformat": 4,
 "nbformat_minor": 5
}
